{
 "cells": [
  {
   "cell_type": "markdown",
   "id": "be9c3191",
   "metadata": {},
   "source": [
    "### Topics: Normal distribution, Functions of Random Variables\n",
    "\n",
    "### Que1)\t The time required for servicing transmissions is normally distributed with  = 45 minutes and  = 8 minutes. The service manager plans to have work begin on the transmission of a customer’s car 10 minutes after the car is dropped off and the customer is told that the car will be ready within 1 hour from drop-off. What is the probability that the service manager cannot meet his commitment?\n",
    "\n",
    "#### A.\t0.3875   B.\t0.2676   C.\t0.5   D.\t0.6987 \n"
   ]
  },
  {
   "cell_type": "markdown",
   "id": "16273dff",
   "metadata": {},
   "source": [
    "### Ans:"
   ]
  },
  {
   "cell_type": "code",
   "execution_count": 1,
   "id": "9f1d7fec",
   "metadata": {},
   "outputs": [],
   "source": [
    "from scipy.stats import norm"
   ]
  },
  {
   "cell_type": "code",
   "execution_count": 3,
   "id": "49332659",
   "metadata": {},
   "outputs": [],
   "source": [
    "mean = 45  \n",
    "std = 8\n",
    "expected_time = 60\n",
    "start_time = 10 "
   ]
  },
  {
   "cell_type": "code",
   "execution_count": 4,
   "id": "265b70b6",
   "metadata": {},
   "outputs": [],
   "source": [
    "available_time = expected_time - start_time"
   ]
  },
  {
   "cell_type": "code",
   "execution_count": 5,
   "id": "3f8841f6",
   "metadata": {},
   "outputs": [],
   "source": [
    "probability = 1 - norm.cdf(available_time, loc=mean, scale=std)"
   ]
  },
  {
   "cell_type": "code",
   "execution_count": 6,
   "id": "782da001",
   "metadata": {},
   "outputs": [
    {
     "name": "stdout",
     "output_type": "stream",
     "text": [
      "The probability that the service manager cannot meet the commitment: 0.2660\n"
     ]
    }
   ],
   "source": [
    "print(f\"The probability that the service manager cannot meet the commitment: {probability:.4f}\")"
   ]
  },
  {
   "cell_type": "markdown",
   "id": "da3621c1",
   "metadata": {},
   "source": [
    "###  Que2.\tThe current age (in years) of 400 clerical employees at an insurance claims processing center is normally distributed with mean = 38 and Standard deviation  = 6. For each statement below, please specify True/False. If false, briefly explain why.\n",
    "\n",
    "#### A.\tMore employees at the processing center are older than 44 than between 38 and 44.\n",
    "#### B.\tA training program for employees under the age of 30 at the center would be expected to attract about 36 employees.\n"
   ]
  },
  {
   "cell_type": "markdown",
   "id": "0da2fa15",
   "metadata": {},
   "source": [
    "### Ans:"
   ]
  },
  {
   "cell_type": "code",
   "execution_count": 7,
   "id": "e1d2d9b9",
   "metadata": {},
   "outputs": [],
   "source": [
    "mean = 38 \n",
    "std = 6"
   ]
  },
  {
   "cell_type": "code",
   "execution_count": 8,
   "id": "bb4efdb8",
   "metadata": {},
   "outputs": [],
   "source": [
    "prob_older_than_44 = 1 - norm.cdf(44, loc=mean, scale=std)"
   ]
  },
  {
   "cell_type": "code",
   "execution_count": 9,
   "id": "f36cf638",
   "metadata": {},
   "outputs": [],
   "source": [
    "prob_between_38_44 = norm.cdf(44, loc=mean, scale=std) - norm.cdf(38, loc=mean, scale=std)\n"
   ]
  },
  {
   "cell_type": "code",
   "execution_count": 10,
   "id": "7857daec",
   "metadata": {},
   "outputs": [],
   "source": [
    "prob_under_30 = norm.cdf(30, loc=mean, scale=std)"
   ]
  },
  {
   "cell_type": "code",
   "execution_count": 11,
   "id": "b98cde05",
   "metadata": {},
   "outputs": [],
   "source": [
    "total_employees = 400"
   ]
  },
  {
   "cell_type": "code",
   "execution_count": 12,
   "id": "fe35deb3",
   "metadata": {},
   "outputs": [],
   "source": [
    "expected_employees_under_30 = prob_under_30 * total_employees"
   ]
  },
  {
   "cell_type": "code",
   "execution_count": 13,
   "id": "3848771b",
   "metadata": {},
   "outputs": [],
   "source": [
    "statement_A = prob_older_than_44 > prob_between_38_44\n",
    "statement_B = round(expected_employees_under_30) == 36"
   ]
  },
  {
   "cell_type": "code",
   "execution_count": 14,
   "id": "8fdac5bc",
   "metadata": {},
   "outputs": [
    {
     "name": "stdout",
     "output_type": "stream",
     "text": [
      "A. More employees at the processing center are older than 44 than between 38 and 44: False\n",
      "B. A training program for employees under the age of 30 at the center would be expected to attract about 36 employees: True\n"
     ]
    }
   ],
   "source": [
    "\n",
    "print(f\"A. More employees at the processing center are older than 44 than between 38 and 44: {statement_A}\")\n",
    "print(f\"B. A training program for employees under the age of 30 at the center would be expected to attract about 36 employees: {statement_B}\")\n"
   ]
  },
  {
   "cell_type": "markdown",
   "id": "db2f49cc",
   "metadata": {},
   "source": [
    "### Que3.\t If X1 ~ N(μ, σ2) and X2 ~ N(μ, σ2) are iid normal random variables, then what is the difference between 2 X1 and X1 + X2? Discuss both their distributions and parameters.       \n",
    "\n"
   ]
  },
  {
   "cell_type": "markdown",
   "id": "57ee004d",
   "metadata": {},
   "source": [
    "### Ans:"
   ]
  },
  {
   "cell_type": "code",
   "execution_count": 15,
   "id": "57c232f8",
   "metadata": {},
   "outputs": [],
   "source": [
    "import numpy as np"
   ]
  },
  {
   "cell_type": "code",
   "execution_count": 16,
   "id": "4d44a4da",
   "metadata": {},
   "outputs": [],
   "source": [
    "mu = 5\n",
    "sigma = 2"
   ]
  },
  {
   "cell_type": "code",
   "execution_count": 17,
   "id": "ff30ed98",
   "metadata": {},
   "outputs": [],
   "source": [
    "mean_2X1 = 2 * mu\n",
    "variance_2X1 = 4 * (sigma ** 2)"
   ]
  },
  {
   "cell_type": "code",
   "execution_count": 18,
   "id": "5cf14be2",
   "metadata": {},
   "outputs": [],
   "source": [
    "mean_X1_X2 = 2 * mu\n",
    "variance_X1_X2 = 2 * (sigma ** 2)"
   ]
  },
  {
   "cell_type": "code",
   "execution_count": 19,
   "id": "64d0e2cf",
   "metadata": {},
   "outputs": [
    {
     "name": "stdout",
     "output_type": "stream",
     "text": [
      "Mean of 2X1: 10, Variance of 2X1: 16\n",
      "Mean of X1 + X2: 10, Variance of X1 + X2: 8\n"
     ]
    }
   ],
   "source": [
    "print(f\"Mean of 2X1: {mean_2X1}, Variance of 2X1: {variance_2X1}\")\n",
    "print(f\"Mean of X1 + X2: {mean_X1_X2}, Variance of X1 + X2: {variance_X1_X2}\")\n"
   ]
  },
  {
   "cell_type": "markdown",
   "id": "0d0d178d",
   "metadata": {},
   "source": [
    "### Both distributions have the same mean, but their variances differ. The distribution of 2X1 has a larger variance compared to X1 +X2."
   ]
  },
  {
   "cell_type": "markdown",
   "id": "48bb8623",
   "metadata": {},
   "source": [
    "### Que 4.\n",
    "### Let X ~ N(100, 202). Find two values, a and b, symmetric about the mean, such that the probability of the random variable taking a value between them is 0.99. \n",
    "\n",
    "A.\t90.5, 105.9 \n",
    "B.\t80.2, 119.8 \n",
    "C.\t22, 78 \n",
    "D.\t48.5, 151.5 \n",
    "E.\t90.1, 109.9"
   ]
  },
  {
   "cell_type": "markdown",
   "id": "7d5e1863",
   "metadata": {},
   "source": [
    "### Ans:"
   ]
  },
  {
   "cell_type": "code",
   "execution_count": 20,
   "id": "7c27295e",
   "metadata": {},
   "outputs": [],
   "source": [
    "mean = 100\n",
    "std = 20"
   ]
  },
  {
   "cell_type": "code",
   "execution_count": 33,
   "id": "35f1a756",
   "metadata": {},
   "outputs": [],
   "source": [
    "z_score = norm.ppf(0.995, loc=mean, scale=std)"
   ]
  },
  {
   "cell_type": "code",
   "execution_count": 34,
   "id": "121ee8d6",
   "metadata": {},
   "outputs": [],
   "source": [
    "a = mean - z_score  \n",
    "b = mean + z_score"
   ]
  },
  {
   "cell_type": "code",
   "execution_count": 35,
   "id": "8c1e07f8",
   "metadata": {},
   "outputs": [
    {
     "name": "stdout",
     "output_type": "stream",
     "text": [
      "a: -51.51658607097801, b: 251.516586070978\n"
     ]
    }
   ],
   "source": [
    "print(f\"a: {a}, b: {b}\")"
   ]
  },
  {
   "cell_type": "markdown",
   "id": "a999f856",
   "metadata": {},
   "source": [
    "### Que 5.\t\n",
    "### Consider a company that has two different divisions. The annual profits from the two divisions are independent and have distributions Profit1 ~ N(5, 32) and Profit2 ~ N(7, 42) respectively. Both the profits are in Million. Answer the following questions about the total profit of the company in Rupees. \n",
    "### Assume that $1 = Rs. 45\n",
    "\n",
    "### A.\tSpecify a Rupee range (centered on the mean) such that it contains 95% probability for the annual profit of the company.\n",
    "\n",
    "### B.\tSpecify the 5th percentile of profit (in Rupees) for the company\n",
    "\n",
    "### C.\tWhich of the two divisions has a larger probability of making a loss in a given year?\n"
   ]
  },
  {
   "cell_type": "markdown",
   "id": "551541e6",
   "metadata": {},
   "source": [
    "### Ans: A)"
   ]
  },
  {
   "cell_type": "code",
   "execution_count": 36,
   "id": "a971a254",
   "metadata": {},
   "outputs": [],
   "source": [
    "from scipy.stats import norm"
   ]
  },
  {
   "cell_type": "code",
   "execution_count": 37,
   "id": "198fdb16",
   "metadata": {},
   "outputs": [],
   "source": [
    "mean_profit1_dollars = 5\n",
    "std_profit1_dollars = 3\n",
    "mean_profit2_dollars = 7\n",
    "std_profit2_dollars = 4"
   ]
  },
  {
   "cell_type": "code",
   "execution_count": 38,
   "id": "71267699",
   "metadata": {},
   "outputs": [],
   "source": [
    "conversion_rate = 45"
   ]
  },
  {
   "cell_type": "code",
   "execution_count": 40,
   "id": "4780b7ac",
   "metadata": {},
   "outputs": [],
   "source": [
    "mean_profit1_rupees = mean_profit1_dollars * conversion_rate\n",
    "std_profit1_rupees = std_profit1_dollars * conversion_rate\n",
    "mean_profit2_rupees = mean_profit2_dollars * conversion_rate\n",
    "std_profit2_rupees = std_profit2_dollars * conversion_rate"
   ]
  },
  {
   "cell_type": "code",
   "execution_count": 44,
   "id": "53b6b248",
   "metadata": {},
   "outputs": [],
   "source": [
    "mean_total_profit_rupees = mean_profit1_rupees + mean_profit2_rupees\n",
    "std_total_profit_rupees = (std_profit1_rupees ** 2 + std_profit2_rupees ** 2) ** 0.5"
   ]
  },
  {
   "cell_type": "code",
   "execution_count": 46,
   "id": "ea015961",
   "metadata": {},
   "outputs": [],
   "source": [
    "lower_bound = mean_total_profit_rupees - 1.96 * std_total_profit_rupees\n",
    "upper_bound = mean_total_profit_rupees + 1.96 * std_total_profit_rupees"
   ]
  },
  {
   "cell_type": "code",
   "execution_count": 47,
   "id": "6b154a19",
   "metadata": {},
   "outputs": [
    {
     "name": "stdout",
     "output_type": "stream",
     "text": [
      "Rupee range centered on the mean with 95% probability: 99.00 Rs to 981.00 Rs\n"
     ]
    }
   ],
   "source": [
    "print(f\"Rupee range centered on the mean with 95% probability: {lower_bound:.2f} Rs to {upper_bound:.2f} Rs\")"
   ]
  },
  {
   "cell_type": "markdown",
   "id": "962279c2",
   "metadata": {},
   "source": [
    "### B:"
   ]
  },
  {
   "cell_type": "code",
   "execution_count": 49,
   "id": "26c6a249",
   "metadata": {},
   "outputs": [],
   "source": [
    "fifth_percentile = norm.ppf(0.05, loc=mean_total_profit_rupees, scale=std_total_profit_rupees)"
   ]
  },
  {
   "cell_type": "code",
   "execution_count": 50,
   "id": "351e3b24",
   "metadata": {},
   "outputs": [
    {
     "name": "stdout",
     "output_type": "stream",
     "text": [
      "5th percentile of profit in Rupees: 169.91 Rs\n"
     ]
    }
   ],
   "source": [
    "print(f\"5th percentile of profit in Rupees: {fifth_percentile:.2f} Rs\")"
   ]
  },
  {
   "cell_type": "markdown",
   "id": "ae53575d",
   "metadata": {},
   "source": [
    "### C:  \n",
    "### Since Profit1 has a mean of 5 million dollars and Profit2 has a mean of 7 million dollars, their corresponding mean profits in Rupees are 225 million Rs and 315 million Rs, respectively. \n",
    "\n",
    "### Comparing these, Profit1 has a smaller mean in Rupees, indicating a higher probability of making a loss."
   ]
  }
 ],
 "metadata": {
  "kernelspec": {
   "display_name": "Python 3 (ipykernel)",
   "language": "python",
   "name": "python3"
  },
  "language_info": {
   "codemirror_mode": {
    "name": "ipython",
    "version": 3
   },
   "file_extension": ".py",
   "mimetype": "text/x-python",
   "name": "python",
   "nbconvert_exporter": "python",
   "pygments_lexer": "ipython3",
   "version": "3.11.3"
  }
 },
 "nbformat": 4,
 "nbformat_minor": 5
}
