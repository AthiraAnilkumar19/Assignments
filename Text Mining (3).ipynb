{
 "cells": [
  {
   "cell_type": "markdown",
   "id": "7af891d0",
   "metadata": {},
   "source": [
    "### 1) Perform sentimental analysis on the Elon-musk tweets (Exlon-musk.csv)"
   ]
  },
  {
   "cell_type": "code",
   "execution_count": 1,
   "id": "d83f1f29",
   "metadata": {},
   "outputs": [
    {
     "name": "stdout",
     "output_type": "stream",
     "text": [
      "Requirement already satisfied: pandas in c:\\users\\lenovo-pc\\anaconda3\\lib\\site-packages (1.5.3)\n",
      "Requirement already satisfied: textblob in c:\\users\\lenovo-pc\\anaconda3\\lib\\site-packages (0.17.1)\n",
      "Requirement already satisfied: python-dateutil>=2.8.1 in c:\\users\\lenovo-pc\\anaconda3\\lib\\site-packages (from pandas) (2.8.2)\n",
      "Requirement already satisfied: pytz>=2020.1 in c:\\users\\lenovo-pc\\anaconda3\\lib\\site-packages (from pandas) (2022.7)\n",
      "Requirement already satisfied: numpy>=1.21.0 in c:\\users\\lenovo-pc\\anaconda3\\lib\\site-packages (from pandas) (1.24.3)\n",
      "Requirement already satisfied: nltk>=3.1 in c:\\users\\lenovo-pc\\anaconda3\\lib\\site-packages (from textblob) (3.7)\n",
      "Requirement already satisfied: click in c:\\users\\lenovo-pc\\anaconda3\\lib\\site-packages (from nltk>=3.1->textblob) (8.0.4)\n",
      "Requirement already satisfied: joblib in c:\\users\\lenovo-pc\\anaconda3\\lib\\site-packages (from nltk>=3.1->textblob) (1.2.0)\n",
      "Requirement already satisfied: regex>=2021.8.3 in c:\\users\\lenovo-pc\\anaconda3\\lib\\site-packages (from nltk>=3.1->textblob) (2022.7.9)\n",
      "Requirement already satisfied: tqdm in c:\\users\\lenovo-pc\\anaconda3\\lib\\site-packages (from nltk>=3.1->textblob) (4.65.0)\n",
      "Requirement already satisfied: six>=1.5 in c:\\users\\lenovo-pc\\anaconda3\\lib\\site-packages (from python-dateutil>=2.8.1->pandas) (1.16.0)\n",
      "Requirement already satisfied: colorama in c:\\users\\lenovo-pc\\anaconda3\\lib\\site-packages (from click->nltk>=3.1->textblob) (0.4.6)\n",
      "Note: you may need to restart the kernel to use updated packages.\n"
     ]
    }
   ],
   "source": [
    "pip install pandas textblob\n"
   ]
  },
  {
   "cell_type": "code",
   "execution_count": 2,
   "id": "9a46908a",
   "metadata": {},
   "outputs": [],
   "source": [
    "import pandas as pd\n",
    "from textblob import TextBlob"
   ]
  },
  {
   "cell_type": "code",
   "execution_count": 3,
   "id": "6f717008",
   "metadata": {},
   "outputs": [
    {
     "data": {
      "text/html": [
       "<div>\n",
       "<style scoped>\n",
       "    .dataframe tbody tr th:only-of-type {\n",
       "        vertical-align: middle;\n",
       "    }\n",
       "\n",
       "    .dataframe tbody tr th {\n",
       "        vertical-align: top;\n",
       "    }\n",
       "\n",
       "    .dataframe thead th {\n",
       "        text-align: right;\n",
       "    }\n",
       "</style>\n",
       "<table border=\"1\" class=\"dataframe\">\n",
       "  <thead>\n",
       "    <tr style=\"text-align: right;\">\n",
       "      <th></th>\n",
       "      <th>Unnamed: 0</th>\n",
       "      <th>Text</th>\n",
       "    </tr>\n",
       "  </thead>\n",
       "  <tbody>\n",
       "    <tr>\n",
       "      <th>0</th>\n",
       "      <td>1</td>\n",
       "      <td>@kunalb11 Im an alien</td>\n",
       "    </tr>\n",
       "    <tr>\n",
       "      <th>1</th>\n",
       "      <td>2</td>\n",
       "      <td>@ID_AA_Carmack Ray tracing on Cyberpunk with H...</td>\n",
       "    </tr>\n",
       "    <tr>\n",
       "      <th>2</th>\n",
       "      <td>3</td>\n",
       "      <td>@joerogan @Spotify Great interview!</td>\n",
       "    </tr>\n",
       "    <tr>\n",
       "      <th>3</th>\n",
       "      <td>4</td>\n",
       "      <td>@gtera27 Doge is underestimated</td>\n",
       "    </tr>\n",
       "    <tr>\n",
       "      <th>4</th>\n",
       "      <td>5</td>\n",
       "      <td>@teslacn Congratulations Tesla China for amazi...</td>\n",
       "    </tr>\n",
       "  </tbody>\n",
       "</table>\n",
       "</div>"
      ],
      "text/plain": [
       "   Unnamed: 0                                               Text\n",
       "0           1                             @kunalb11 Im an alien\n",
       "1           2  @ID_AA_Carmack Ray tracing on Cyberpunk with H...\n",
       "2           3                @joerogan @Spotify Great interview!\n",
       "3           4                    @gtera27 Doge is underestimated\n",
       "4           5  @teslacn Congratulations Tesla China for amazi..."
      ]
     },
     "execution_count": 3,
     "metadata": {},
     "output_type": "execute_result"
    }
   ],
   "source": [
    "df = pd.read_csv(\"Elon_musk.csv\", encoding='latin1')\n",
    "df.head()"
   ]
  },
  {
   "cell_type": "code",
   "execution_count": 6,
   "id": "101c6775",
   "metadata": {},
   "outputs": [],
   "source": [
    "def analyze_sentiment(text):\n",
    "    analysis = TextBlob(text)\n",
    "    if analysis.sentiment.polarity > 0:\n",
    "        return 'Positive'\n",
    "    elif analysis.sentiment.polarity < 0:\n",
    "        return 'Negative'\n",
    "    else:\n",
    "        return 'Neutral'"
   ]
  },
  {
   "cell_type": "code",
   "execution_count": 7,
   "id": "094155b2",
   "metadata": {},
   "outputs": [],
   "source": [
    "df['Sentiment'] = df['Text'].apply(analyze_sentiment)\n"
   ]
  },
  {
   "cell_type": "code",
   "execution_count": 8,
   "id": "ca6342b9",
   "metadata": {},
   "outputs": [
    {
     "name": "stdout",
     "output_type": "stream",
     "text": [
      "                                                   Text Sentiment\n",
      "0                                @kunalb11 Im an alien  Negative\n",
      "1     @ID_AA_Carmack Ray tracing on Cyberpunk with H...   Neutral\n",
      "2                   @joerogan @Spotify Great interview!  Positive\n",
      "3                       @gtera27 Doge is underestimated   Neutral\n",
      "4     @teslacn Congratulations Tesla China for amazi...  Positive\n",
      "...                                                 ...       ...\n",
      "1994  @flcnhvy True, it sounds so surreal, but the n...  Positive\n",
      "1995  @PPathole Make sure to read ur terms &amp; con...  Positive\n",
      "1996                @TeslaGong @PPathole Samwise Gamgee   Neutral\n",
      "1997  @PPathole Altho Dumb and Dumber is <U+0001F525...  Negative\n",
      "1998                          Progress update August 28   Neutral\n",
      "\n",
      "[1999 rows x 2 columns]\n"
     ]
    }
   ],
   "source": [
    "print(df[['Text', 'Sentiment']])"
   ]
  },
  {
   "cell_type": "code",
   "execution_count": 24,
   "id": "dc777aee",
   "metadata": {},
   "outputs": [
    {
     "data": {
      "image/png": "[encoded data removed]",
      "text/plain": [
       "<Figure size 1000x600 with 1 Axes>"
      ]
     },
     "metadata": {},
     "output_type": "display_data"
    }
   ],
   "source": [
    "import matplotlib.pyplot as plt\n",
    "import seaborn as sns\n",
    "plt.figure(figsize=(10, 6))\n",
    "sns.countplot(x='Sentiment', data=df, palette='bright')\n",
    "plt.title('Distribution of Sentiments in Elon Musk Tweets')\n",
    "plt.xlabel('Sentiment Class')\n",
    "plt.ylabel('Number of Tweets')\n",
    "plt.show()\n"
   ]
  },
  {
   "cell_type": "code",
   "execution_count": 12,
   "id": "8a35cf97",
   "metadata": {},
   "outputs": [],
   "source": [
    "total_tweets = len(df)\n",
    "positive_tweets = len(df[df['Sentiment'] == 'Positive'])\n",
    "negative_tweets = len(df[df['Sentiment']== 'Negative'])\n",
    "neutral_tweets = len(df[df['Sentiment'] == 'Neutral'])"
   ]
  },
  {
   "cell_type": "code",
   "execution_count": 13,
   "id": "7bbdae8f",
   "metadata": {},
   "outputs": [
    {
     "name": "stdout",
     "output_type": "stream",
     "text": [
      "Total number of tweets: 1999\n",
      "Number of positive tweets: 883 (44.17%)\n",
      "Number of negative tweets: 216 (10.81%)\n",
      "Number of neutral tweets: 900 (45.02%)\n"
     ]
    }
   ],
   "source": [
    "print(f\"Total number of tweets: {total_tweets}\")\n",
    "print(f\"Number of positive tweets: {positive_tweets} ({(positive_tweets / total_tweets) * 100:.2f}%)\")\n",
    "print(f\"Number of negative tweets: {negative_tweets} ({(negative_tweets / total_tweets) * 100:.2f}%)\")\n",
    "print(f\"Number of neutral tweets: {neutral_tweets} ({(neutral_tweets / total_tweets) * 100:.2f}%)\")"
   ]
  },
  {
   "cell_type": "code",
   "execution_count": null,
   "id": "6b680349",
   "metadata": {},
   "outputs": [],
   "source": []
  },
  {
   "cell_type": "markdown",
   "id": "b822ba22",
   "metadata": {},
   "source": [
    "### 2) Extract reviews of any product from ecommerce website like amazon"
   ]
  },
  {
   "cell_type": "code",
   "execution_count": 4,
   "id": "1c8731ee",
   "metadata": {},
   "outputs": [],
   "source": [
    "import requests\n",
    "from bs4 import BeautifulSoup"
   ]
  },
  {
   "cell_type": "code",
   "execution_count": 5,
   "id": "936d0d27",
   "metadata": {},
   "outputs": [],
   "source": [
    "link=\"https://www.flipkart.com/motorola-edge-40-neo-caneel-bay-256-gb/p/itm55813a9671489?pid=MOBGQFX6APUFAPMS&lid=LSTMOBGQFX6APUFAPMSU240FX&marketplace=FLIPKART&q=mobiles&store=tyy%2F4io&srno=s_1_1&otracker=AS_Query_TrendingAutoSuggest_8_0_na_na_na&otracker1=AS_Query_TrendingAutoSuggest_8_0_na_na_na&fm=Search&iid=689e5f48-76da-4997-ba0c-83095071b976.MOBGQFX6APUFAPMS.SEARCH&ppt=browse&ppn=browse&ssid=k8s95vizgg0000001708785231787&qH=eb4af0bf07c16429\""
   ]
  },
  {
   "cell_type": "code",
   "execution_count": 6,
   "id": "ebd6e673",
   "metadata": {},
   "outputs": [
    {
     "data": {
      "text/plain": [
       "<Response [200]>"
      ]
     },
     "execution_count": 6,
     "metadata": {},
     "output_type": "execute_result"
    }
   ],
   "source": [
    "page=requests.get(link)\n",
    "page"
   ]
  },
  {
   "cell_type": "code",
   "execution_count": 7,
   "id": "e4f8753c",
   "metadata": {},
   "outputs": [],
   "source": [
    "soup=BeautifulSoup(page.content,'html.parser')"
   ]
  },
  {
   "cell_type": "code",
   "execution_count": 8,
   "id": "320fd54f",
   "metadata": {},
   "outputs": [
    {
     "data": {
      "text/plain": [
       "['Motorola Edge 40 Neo (Caneel Bay, 256 GB)\\xa0\\xa0(12 GB RAM)']"
      ]
     },
     "execution_count": 8,
     "metadata": {},
     "output_type": "execute_result"
    }
   ],
   "source": [
    "names = soup.find_all('span',class_='B_NuCI')\n",
    "\n",
    "Product_Name=[]\n",
    "for i in range(0,len(names)):\n",
    "    Product_Name.append(names[i].get_text())\n",
    "Product_Name"
   ]
  },
  {
   "cell_type": "code",
   "execution_count": 10,
   "id": "1ee799ef",
   "metadata": {},
   "outputs": [
    {
     "data": {
      "text/plain": [
       "['Perfect product!',\n",
       " 'Good choice',\n",
       " 'Good choice',\n",
       " 'Perfect product!',\n",
       " \"Don't waste your money\",\n",
       " 'Very Good',\n",
       " 'Good quality product',\n",
       " 'Fabulous!',\n",
       " 'Mind-blowing purchase',\n",
       " 'Unsatisfactory']"
      ]
     },
     "execution_count": 10,
     "metadata": {},
     "output_type": "execute_result"
    }
   ],
   "source": [
    "review = soup.find_all('p',class_=\"_2-N8zT\")\n",
    "\n",
    "Reviews=[]\n",
    "for i in range(0,len(review)):\n",
    "    Reviews.append(review[i].get_text())\n",
    "Reviews"
   ]
  },
  {
   "cell_type": "code",
   "execution_count": 12,
   "id": "2afb3f41",
   "metadata": {},
   "outputs": [
    {
     "name": "stdout",
     "output_type": "stream",
     "text": [
      "Product Name: ['Motorola Edge 40 Neo (Caneel Bay, 256 GB)\\xa0\\xa0(12 GB RAM)']\n",
      "Reviews: ['Perfect product!', 'Good choice', 'Good choice', 'Perfect product!', \"Don't waste your money\", 'Very Good', 'Good quality product', 'Fabulous!', 'Mind-blowing purchase', 'Unsatisfactory']\n"
     ]
    }
   ],
   "source": [
    "print(\"Product Name:\", Product_Name)\n",
    "\n",
    "print(\"Reviews:\", Reviews)       "
   ]
  },
  {
   "cell_type": "markdown",
   "id": "9b030f89",
   "metadata": {},
   "source": [
    "###  3)Perform emotion mining"
   ]
  },
  {
   "cell_type": "code",
   "execution_count": 32,
   "id": "64bc5477",
   "metadata": {},
   "outputs": [],
   "source": [
    "from textblob import TextBlob"
   ]
  },
  {
   "cell_type": "code",
   "execution_count": 45,
   "id": "c72f9516",
   "metadata": {},
   "outputs": [],
   "source": [
    "def analyze_emotion(text):\n",
    "    blob = TextBlob(text)\n",
    "\n",
    "    sentiment_polarity = blob.sentiment.polarity\n",
    "    sentiment_subjectivity = blob.sentiment.subjectivity\n",
    "\n",
    "    if  sentiment_polarity > 0:\n",
    "        sentiment_category = 'Positive'\n",
    "    elif sentiment_polarity < 0:\n",
    "         sentiment_category = 'Negative'\n",
    "    else:\n",
    "        sentiment_category = 'Neutral'\n",
    "\n",
    "    return sentiment_category, sentiment_polarity, sentiment_subjectivity"
   ]
  },
  {
   "cell_type": "code",
   "execution_count": 46,
   "id": "88bbf381",
   "metadata": {},
   "outputs": [],
   "source": [
    "text_to_analyze = \"I love this product! It's amazing.\"\n",
    "sentiment_category, sentiment_polarity, sentiment_subjectivity = analyze_emotion(text_to_analyze)"
   ]
  },
  {
   "cell_type": "code",
   "execution_count": 47,
   "id": "6332cb3c",
   "metadata": {},
   "outputs": [
    {
     "name": "stdout",
     "output_type": "stream",
     "text": [
      "Text: I love this product! It's amazing.\n",
      "Sentiment Category: Positive\n",
      "Sentiment Polarity: 0.6125\n",
      "Sentiment Subjectivity: 0.75\n"
     ]
    }
   ],
   "source": [
    "print(f\"Text: {text_to_analyze}\")\n",
    "print(f\"Sentiment Category: {sentiment_category}\")\n",
    "print(f\"Sentiment Polarity: {sentiment_polarity}\")\n",
    "print(f\"Sentiment Subjectivity: {sentiment_subjectivity}\")\n"
   ]
  },
  {
   "cell_type": "code",
   "execution_count": null,
   "id": "185706bd",
   "metadata": {},
   "outputs": [],
   "source": []
  }
 ],
 "metadata": {
  "kernelspec": {
   "display_name": "Python 3 (ipykernel)",
   "language": "python",
   "name": "python3"
  },
  "language_info": {
   "codemirror_mode": {
    "name": "ipython",
    "version": 3
   },
   "file_extension": ".py",
   "mimetype": "text/x-python",
   "name": "python",
   "nbconvert_exporter": "python",
   "pygments_lexer": "ipython3",
   "version": "3.11.3"
  }
 },
 "nbformat": 4,
 "nbformat_minor": 5
}
