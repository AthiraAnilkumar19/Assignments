{
 "cells": [
  {
   "cell_type": "markdown",
   "id": "7c5ff0d4",
   "metadata": {},
   "source": [
    "\n",
    "### 1.\tFor each of the following statements, indicate whether it is True/False. If false, explain why.\n",
    "\n"
   ]
  },
  {
   "cell_type": "markdown",
   "id": "f8bb6ee1",
   "metadata": {},
   "source": [
    "### I.\tThe sample size of the survey should at least be a fixed percentage of the population size in order to produce representative results\n",
    "\n",
    "Ans:  False. The representativeness of a sample depends on how it is selected rather than a fixed percentage of the population size"
   ]
  },
  {
   "cell_type": "markdown",
   "id": "32375ef0",
   "metadata": {},
   "source": [
    "###   II.\tThe sampling frame is a list of every item that appears in a survey sample, including those that did not respond to questions.\n",
    "\n",
    "\n",
    " Ans:  False. The sampling frame is a list of all the items in the population that have a chance of being included in the sample. It does not include those that did not respond to questions because they were not part of the sample."
   ]
  },
  {
   "cell_type": "markdown",
   "id": "10cabac0",
   "metadata": {},
   "source": [
    "### III.\tLarger surveys convey a more accurate impression of the population than smaller surveys.\n",
    "\n",
    "Ans: Not necessarily True. While larger sample sizes generally provide more precise estimates of population parameters, the accuracy of a survey is not solely determined by its size. A well-designed smaller survey may be more accurate than a larger survey with biases or poor sampling methods. "
   ]
  },
  {
   "cell_type": "markdown",
   "id": "4c384da4",
   "metadata": {},
   "source": [
    "###  2.\tPC Magazine asked all of its readers to participate in a survey of their satisfaction with different brands of electronics. In the 2004 survey, which was included in an issue of the magazine that year, more than 9000 readers rated the products on a scale from 1 to 10. The magazine reported that the average rating assigned by 225 readers to a Kodak compact digital camera was 7.5. For this product, identify the following:\n",
    "\n"
   ]
  },
  {
   "cell_type": "markdown",
   "id": "8f0ebd52",
   "metadata": {},
   "source": [
    "### Ans:"
   ]
  },
  {
   "cell_type": "markdown",
   "id": "592bb015",
   "metadata": {},
   "source": [
    "### The population:\n",
    "\n",
    "The population in this scenario is all the readers of PC Magazine who have opinions on different brands of electronics. It includes all readers who could potentially participate in the survey."
   ]
  },
  {
   "cell_type": "markdown",
   "id": "ed9ba13b",
   "metadata": {},
   "source": [
    "### The parameter of interest:\n",
    "\n",
    "The parameter of interest is the average rating assigned by all PC Magazine readers to the Kodak compact digital camera. In this case, it is the population mean rating for that specific product."
   ]
  },
  {
   "cell_type": "markdown",
   "id": "3b008d99",
   "metadata": {},
   "source": [
    "### The sampling frame:\n",
    "\n",
    "The sampling frame is the list of all PC Magazine readers who were asked to participate in the survey. It is the pool of potential participants from which the sample is drawn."
   ]
  },
  {
   "cell_type": "markdown",
   "id": "6bc7be66",
   "metadata": {},
   "source": [
    "### The sample size:\n",
    "\n",
    "The sample size is given as more than 9000 readers who participated in the survey. However, the specific sample size for the Kodak compact digital camera is not mentioned in the provided information."
   ]
  },
  {
   "cell_type": "markdown",
   "id": "334cbee5",
   "metadata": {},
   "source": [
    "### The sampling design:\n",
    "\n",
    "The information does not explicitly mention the details of the sampling design. It would be important to know whether the readers were randomly selected, volunteered, or if there was any specific method used to ensure the sample's representativeness."
   ]
  },
  {
   "cell_type": "markdown",
   "id": "beb8b86c",
   "metadata": {},
   "source": [
    "###  Potential sources of bias or other problems:\n",
    "\n",
    " If the survey design doesn't ensure a representative sample of PC Magazine readers. Additionally, if the survey only includes readers of PC Magazine, it might not be representative of the general population's opinions on electronics."
   ]
  },
  {
   "cell_type": "markdown",
   "id": "7bc83774",
   "metadata": {},
   "source": [
    "### 3.\tFor each of the following statements, indicate whether it is True/False. If false, explain why."
   ]
  },
  {
   "cell_type": "markdown",
   "id": "78146c7b",
   "metadata": {},
   "source": [
    "### I. If the 95% confidence interval for the average purchase of customers at a department store is  50𝑡𝑜 110, then $100 is a plausible value for the population mean at this level of confidence.\n",
    "\n",
    "Ans:  False. The 95% confidence interval (CI) of 50 to 110 means that we are 95% confident that the true population mean falls within this range. "
   ]
  },
  {
   "cell_type": "markdown",
   "id": "a2e1700d",
   "metadata": {},
   "source": [
    "### II. If the 95% confidence interval for the number of moviegoers who purchase concessions is 30% to 45%, this means that fewer than half of all moviegoers purchase concessions\n",
    "\n",
    "\n",
    "Ans:  False. The 95% confidence interval of 30% to 45% refers to the range of plausible values for the proportion of moviegoers who purchase concessions, not the quantity."
   ]
  },
  {
   "cell_type": "markdown",
   "id": "b0f465fe",
   "metadata": {},
   "source": [
    "### III. The 95% Confidence-Interval for μ only applies if the sample data are nearly normally distributed.\n",
    "\n",
    "Ans:  False. The central limit theorem states that for a sufficiently large sample size, the sampling distribution of the sample mean will be approximately normally distributed, even if the underlying population distribution is not normal. "
   ]
  },
  {
   "attachments": {
    "image.png": {
     "image/png": "[encoded data removed]"
    }
   },
   "cell_type": "markdown",
   "id": "f3474ac6",
   "metadata": {},
   "source": [
    "### 4.\tWhat are the chances that?\n",
    "\n",
    "![image.png](attachment:image.png) \n",
    "\n",
    "A.\t¼ \n",
    "B.\t½ \n",
    "C.\t¾ \n",
    "D.\t1\n",
    "\n",
    "\n",
    "Ans: 1"
   ]
  },
  {
   "cell_type": "markdown",
   "id": "56c0d2f9",
   "metadata": {},
   "source": [
    "### 5.\tIn January 2005, a company that monitors Internet traffic (WebSideStory) reported that its sampling revealed that the Mozilla Firefox browser launched in 2004 had grabbed a 4.6% share of the market.\n"
   ]
  },
  {
   "cell_type": "markdown",
   "id": "22ed7074",
   "metadata": {},
   "source": [
    "### I.\tIf the sample were based on 2,000 users, could Microsoft conclude that Mozilla has a less than 5% share of the market?\n",
    "Ans:  If the sample were based on 2,000 users, Microsoft could conduct a hypothesis test to determine whether Mozilla has a less than 5% share of the market. "
   ]
  },
  {
   "cell_type": "markdown",
   "id": "f1481588",
   "metadata": {},
   "source": [
    "### II.\tWebSideStory claims that its sample includes all the daily Internet users. If that’s the case, then can Microsoft conclude that Mozilla has a less than 5% share of the market?\n",
    "\n",
    "Ans: If WebSideStory claims that its sample includes all daily Internet users, it suggests a census rather than a sample.  If WebSideStory's claim is accurate, Microsoft could reasonably conclude that Mozilla has a less than 5% share of the market based on the reported population parameter."
   ]
  },
  {
   "cell_type": "markdown",
   "id": "4b603089",
   "metadata": {},
   "source": [
    "### 6.\tA book publisher monitors the size of shipments of its textbooks to university bookstores. For a sample of texts used at various schools, the 95% confidence interval for the size of the shipment was 250 ± 45 books. Which, if any, of the following interpretations of this interval are correct?\n",
    "\n",
    "A.\tAll shipments are between 205 and 295 books.\n",
    "\n",
    "B.\t95% of shipments are between 205 and 295 books.\n",
    "\n",
    "C.\tThe procedure that produced this interval generates ranges that hold the population mean for 95% of samples.\n",
    "\n",
    "D.\tIf we get another sample, then we can be 95% sure that the mean of this second sample is between 205 and 295.\n",
    "\n",
    "E.\tWe can be 95% confident that the range 160 to 340 holds the population mean.\n",
    "\n",
    "\n",
    "### Ans: (B)\n"
   ]
  },
  {
   "cell_type": "markdown",
   "id": "d979c14c",
   "metadata": {},
   "source": [
    "### 7.\tWhich is shorter: a 95% z-interval or a 95% t-interval for μ if we know that σ =s?\n",
    "\n",
    "A.\tThe z-interval is shorter\n",
    "B.\tThe t-interval is shorter\n",
    "C.\tBoth are equal\n",
    "D.\tWe cannot say\n",
    "\n",
    "### Ans: (A)"
   ]
  }
 ],
 "metadata": {
  "kernelspec": {
   "display_name": "Python 3 (ipykernel)",
   "language": "python",
   "name": "python3"
  },
  "language_info": {
   "codemirror_mode": {
    "name": "ipython",
    "version": 3
   },
   "file_extension": ".py",
   "mimetype": "text/x-python",
   "name": "python",
   "nbconvert_exporter": "python",
   "pygments_lexer": "ipython3",
   "version": "3.11.3"
  }
 },
 "nbformat": 4,
 "nbformat_minor": 5
}
