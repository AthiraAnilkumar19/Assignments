{
 "cells": [
  {
   "cell_type": "markdown",
   "id": "e347392b",
   "metadata": {},
   "source": [
    "### Que: Perform Clustering(Hierarchical, Kmeans & DBSCAN) for the crime data and identify the number of clusters formed and draw inferences."
   ]
  },
  {
   "cell_type": "code",
   "execution_count": 18,
   "id": "c1c15a17",
   "metadata": {},
   "outputs": [],
   "source": [
    "import pandas as pd\n",
    "import warnings\n",
    "warnings.filterwarnings(\"ignore\")\n"
   ]
  },
  {
   "cell_type": "code",
   "execution_count": 3,
   "id": "78b4945c",
   "metadata": {},
   "outputs": [
    {
     "data": {
      "text/html": [
       "<div>\n",
       "<style scoped>\n",
       "    .dataframe tbody tr th:only-of-type {\n",
       "        vertical-align: middle;\n",
       "    }\n",
       "\n",
       "    .dataframe tbody tr th {\n",
       "        vertical-align: top;\n",
       "    }\n",
       "\n",
       "    .dataframe thead th {\n",
       "        text-align: right;\n",
       "    }\n",
       "</style>\n",
       "<table border=\"1\" class=\"dataframe\">\n",
       "  <thead>\n",
       "    <tr style=\"text-align: right;\">\n",
       "      <th></th>\n",
       "      <th>Unnamed: 0</th>\n",
       "      <th>Murder</th>\n",
       "      <th>Assault</th>\n",
       "      <th>UrbanPop</th>\n",
       "      <th>Rape</th>\n",
       "    </tr>\n",
       "  </thead>\n",
       "  <tbody>\n",
       "    <tr>\n",
       "      <th>0</th>\n",
       "      <td>Alabama</td>\n",
       "      <td>13.2</td>\n",
       "      <td>236</td>\n",
       "      <td>58</td>\n",
       "      <td>21.2</td>\n",
       "    </tr>\n",
       "    <tr>\n",
       "      <th>1</th>\n",
       "      <td>Alaska</td>\n",
       "      <td>10.0</td>\n",
       "      <td>263</td>\n",
       "      <td>48</td>\n",
       "      <td>44.5</td>\n",
       "    </tr>\n",
       "    <tr>\n",
       "      <th>2</th>\n",
       "      <td>Arizona</td>\n",
       "      <td>8.1</td>\n",
       "      <td>294</td>\n",
       "      <td>80</td>\n",
       "      <td>31.0</td>\n",
       "    </tr>\n",
       "    <tr>\n",
       "      <th>3</th>\n",
       "      <td>Arkansas</td>\n",
       "      <td>8.8</td>\n",
       "      <td>190</td>\n",
       "      <td>50</td>\n",
       "      <td>19.5</td>\n",
       "    </tr>\n",
       "    <tr>\n",
       "      <th>4</th>\n",
       "      <td>California</td>\n",
       "      <td>9.0</td>\n",
       "      <td>276</td>\n",
       "      <td>91</td>\n",
       "      <td>40.6</td>\n",
       "    </tr>\n",
       "  </tbody>\n",
       "</table>\n",
       "</div>"
      ],
      "text/plain": [
       "   Unnamed: 0  Murder  Assault  UrbanPop  Rape\n",
       "0     Alabama    13.2      236        58  21.2\n",
       "1      Alaska    10.0      263        48  44.5\n",
       "2     Arizona     8.1      294        80  31.0\n",
       "3    Arkansas     8.8      190        50  19.5\n",
       "4  California     9.0      276        91  40.6"
      ]
     },
     "execution_count": 3,
     "metadata": {},
     "output_type": "execute_result"
    }
   ],
   "source": [
    "df = pd.read_csv(\"crime_data.csv\")\n",
    "df.head()"
   ]
  },
  {
   "cell_type": "code",
   "execution_count": 4,
   "id": "bf692924",
   "metadata": {},
   "outputs": [
    {
     "name": "stdout",
     "output_type": "stream",
     "text": [
      "Unnamed: 0    0\n",
      "Murder        0\n",
      "Assault       0\n",
      "UrbanPop      0\n",
      "Rape          0\n",
      "dtype: int64\n"
     ]
    }
   ],
   "source": [
    "print(df.isnull().sum())"
   ]
  },
  {
   "cell_type": "code",
   "execution_count": 5,
   "id": "90e0547f",
   "metadata": {},
   "outputs": [
    {
     "name": "stdout",
     "output_type": "stream",
     "text": [
      "Duplicate rows: 0\n"
     ]
    }
   ],
   "source": [
    "print(f\"Duplicate rows: {df.duplicated().sum()}\")\n"
   ]
  },
  {
   "cell_type": "code",
   "execution_count": 6,
   "id": "b1f84d4c",
   "metadata": {},
   "outputs": [
    {
     "data": {
      "text/html": [
       "<div>\n",
       "<style scoped>\n",
       "    .dataframe tbody tr th:only-of-type {\n",
       "        vertical-align: middle;\n",
       "    }\n",
       "\n",
       "    .dataframe tbody tr th {\n",
       "        vertical-align: top;\n",
       "    }\n",
       "\n",
       "    .dataframe thead th {\n",
       "        text-align: right;\n",
       "    }\n",
       "</style>\n",
       "<table border=\"1\" class=\"dataframe\">\n",
       "  <thead>\n",
       "    <tr style=\"text-align: right;\">\n",
       "      <th></th>\n",
       "      <th>Murder</th>\n",
       "      <th>Assault</th>\n",
       "      <th>UrbanPop</th>\n",
       "      <th>Rape</th>\n",
       "    </tr>\n",
       "  </thead>\n",
       "  <tbody>\n",
       "    <tr>\n",
       "      <th>count</th>\n",
       "      <td>50.00000</td>\n",
       "      <td>50.000000</td>\n",
       "      <td>50.000000</td>\n",
       "      <td>50.000000</td>\n",
       "    </tr>\n",
       "    <tr>\n",
       "      <th>mean</th>\n",
       "      <td>7.78800</td>\n",
       "      <td>170.760000</td>\n",
       "      <td>65.540000</td>\n",
       "      <td>21.232000</td>\n",
       "    </tr>\n",
       "    <tr>\n",
       "      <th>std</th>\n",
       "      <td>4.35551</td>\n",
       "      <td>83.337661</td>\n",
       "      <td>14.474763</td>\n",
       "      <td>9.366385</td>\n",
       "    </tr>\n",
       "    <tr>\n",
       "      <th>min</th>\n",
       "      <td>0.80000</td>\n",
       "      <td>45.000000</td>\n",
       "      <td>32.000000</td>\n",
       "      <td>7.300000</td>\n",
       "    </tr>\n",
       "    <tr>\n",
       "      <th>25%</th>\n",
       "      <td>4.07500</td>\n",
       "      <td>109.000000</td>\n",
       "      <td>54.500000</td>\n",
       "      <td>15.075000</td>\n",
       "    </tr>\n",
       "    <tr>\n",
       "      <th>50%</th>\n",
       "      <td>7.25000</td>\n",
       "      <td>159.000000</td>\n",
       "      <td>66.000000</td>\n",
       "      <td>20.100000</td>\n",
       "    </tr>\n",
       "    <tr>\n",
       "      <th>75%</th>\n",
       "      <td>11.25000</td>\n",
       "      <td>249.000000</td>\n",
       "      <td>77.750000</td>\n",
       "      <td>26.175000</td>\n",
       "    </tr>\n",
       "    <tr>\n",
       "      <th>max</th>\n",
       "      <td>17.40000</td>\n",
       "      <td>337.000000</td>\n",
       "      <td>91.000000</td>\n",
       "      <td>46.000000</td>\n",
       "    </tr>\n",
       "  </tbody>\n",
       "</table>\n",
       "</div>"
      ],
      "text/plain": [
       "         Murder     Assault   UrbanPop       Rape\n",
       "count  50.00000   50.000000  50.000000  50.000000\n",
       "mean    7.78800  170.760000  65.540000  21.232000\n",
       "std     4.35551   83.337661  14.474763   9.366385\n",
       "min     0.80000   45.000000  32.000000   7.300000\n",
       "25%     4.07500  109.000000  54.500000  15.075000\n",
       "50%     7.25000  159.000000  66.000000  20.100000\n",
       "75%    11.25000  249.000000  77.750000  26.175000\n",
       "max    17.40000  337.000000  91.000000  46.000000"
      ]
     },
     "execution_count": 6,
     "metadata": {},
     "output_type": "execute_result"
    }
   ],
   "source": [
    "df.describe()"
   ]
  },
  {
   "cell_type": "code",
   "execution_count": 7,
   "id": "12700f2a",
   "metadata": {},
   "outputs": [
    {
     "name": "stdout",
     "output_type": "stream",
     "text": [
      "<class 'pandas.core.frame.DataFrame'>\n",
      "RangeIndex: 50 entries, 0 to 49\n",
      "Data columns (total 5 columns):\n",
      " #   Column      Non-Null Count  Dtype  \n",
      "---  ------      --------------  -----  \n",
      " 0   Unnamed: 0  50 non-null     object \n",
      " 1   Murder      50 non-null     float64\n",
      " 2   Assault     50 non-null     int64  \n",
      " 3   UrbanPop    50 non-null     int64  \n",
      " 4   Rape        50 non-null     float64\n",
      "dtypes: float64(2), int64(2), object(1)\n",
      "memory usage: 2.1+ KB\n"
     ]
    }
   ],
   "source": [
    "df.info()"
   ]
  },
  {
   "cell_type": "code",
   "execution_count": 8,
   "id": "36c86256",
   "metadata": {},
   "outputs": [
    {
     "name": "stdout",
     "output_type": "stream",
     "text": [
      "Unnamed: 0     object\n",
      "Murder        float64\n",
      "Assault         int64\n",
      "UrbanPop        int64\n",
      "Rape          float64\n",
      "dtype: object\n"
     ]
    }
   ],
   "source": [
    "print(df.dtypes)"
   ]
  },
  {
   "cell_type": "code",
   "execution_count": 10,
   "id": "1915a386",
   "metadata": {},
   "outputs": [
    {
     "data": {
      "text/html": [
       "<div>\n",
       "<style scoped>\n",
       "    .dataframe tbody tr th:only-of-type {\n",
       "        vertical-align: middle;\n",
       "    }\n",
       "\n",
       "    .dataframe tbody tr th {\n",
       "        vertical-align: top;\n",
       "    }\n",
       "\n",
       "    .dataframe thead th {\n",
       "        text-align: right;\n",
       "    }\n",
       "</style>\n",
       "<table border=\"1\" class=\"dataframe\">\n",
       "  <thead>\n",
       "    <tr style=\"text-align: right;\">\n",
       "      <th></th>\n",
       "      <th>Murder</th>\n",
       "      <th>Assault</th>\n",
       "      <th>UrbanPop</th>\n",
       "      <th>Rape</th>\n",
       "    </tr>\n",
       "  </thead>\n",
       "  <tbody>\n",
       "    <tr>\n",
       "      <th>0</th>\n",
       "      <td>13.2</td>\n",
       "      <td>236</td>\n",
       "      <td>58</td>\n",
       "      <td>21.2</td>\n",
       "    </tr>\n",
       "    <tr>\n",
       "      <th>1</th>\n",
       "      <td>10.0</td>\n",
       "      <td>263</td>\n",
       "      <td>48</td>\n",
       "      <td>44.5</td>\n",
       "    </tr>\n",
       "    <tr>\n",
       "      <th>2</th>\n",
       "      <td>8.1</td>\n",
       "      <td>294</td>\n",
       "      <td>80</td>\n",
       "      <td>31.0</td>\n",
       "    </tr>\n",
       "  </tbody>\n",
       "</table>\n",
       "</div>"
      ],
      "text/plain": [
       "   Murder  Assault  UrbanPop  Rape\n",
       "0    13.2      236        58  21.2\n",
       "1    10.0      263        48  44.5\n",
       "2     8.1      294        80  31.0"
      ]
     },
     "execution_count": 10,
     "metadata": {},
     "output_type": "execute_result"
    }
   ],
   "source": [
    "df1 = df.iloc[:,1:]\n",
    "df1.head(3)"
   ]
  },
  {
   "cell_type": "code",
   "execution_count": 14,
   "id": "45b81893",
   "metadata": {},
   "outputs": [
    {
     "data": {
      "text/plain": [
       "array([[ 1.25517927,  0.79078716, -0.52619514, -0.00345116],\n",
       "       [ 0.51301858,  1.11805959, -1.22406668,  2.50942392],\n",
       "       [ 0.07236067,  1.49381682,  1.00912225,  1.05346626],\n",
       "       [ 0.23470832,  0.23321191, -1.08449238, -0.18679398],\n",
       "       [ 0.28109336,  1.2756352 ,  1.77678094,  2.08881393],\n",
       "       [ 0.02597562,  0.40290872,  0.86954794,  1.88390137],\n",
       "       [-1.04088037, -0.73648418,  0.79976079, -1.09272319],\n",
       "       [-0.43787481,  0.81502956,  0.45082502, -0.58583422],\n",
       "       [ 1.76541475,  1.99078607,  1.00912225,  1.1505301 ],\n",
       "       [ 2.22926518,  0.48775713, -0.38662083,  0.49265293],\n",
       "       [-0.57702994, -1.51224105,  1.21848371, -0.11129987],\n",
       "       [-1.20322802, -0.61527217, -0.80534376, -0.75839217],\n",
       "       [ 0.60578867,  0.94836277,  1.21848371,  0.29852525],\n",
       "       [-0.13637203, -0.70012057, -0.03768506, -0.0250209 ],\n",
       "       [-1.29599811, -1.39102904, -0.5959823 , -1.07115345],\n",
       "       [-0.41468229, -0.67587817,  0.03210209, -0.34856705],\n",
       "       [ 0.44344101, -0.74860538, -0.94491807, -0.53190987],\n",
       "       [ 1.76541475,  0.94836277,  0.03210209,  0.10439756],\n",
       "       [-1.31919063, -1.06375661, -1.01470522, -1.44862395],\n",
       "       [ 0.81452136,  1.56654403,  0.10188925,  0.70835037],\n",
       "       [-0.78576263, -0.26375734,  1.35805802, -0.53190987],\n",
       "       [ 1.00006153,  1.02108998,  0.59039932,  1.49564599],\n",
       "       [-1.1800355 , -1.19708982,  0.03210209, -0.68289807],\n",
       "       [ 1.9277624 ,  1.06957478, -1.5032153 , -0.44563089],\n",
       "       [ 0.28109336,  0.0877575 ,  0.31125071,  0.75148985],\n",
       "       [-0.41468229, -0.74860538, -0.87513091, -0.521125  ],\n",
       "       [-0.80895515, -0.83345379, -0.24704653, -0.51034012],\n",
       "       [ 1.02325405,  0.98472638,  1.0789094 ,  2.671197  ],\n",
       "       [-1.31919063, -1.37890783, -0.66576945, -1.26528114],\n",
       "       [-0.08998698, -0.14254532,  1.63720664, -0.26228808],\n",
       "       [ 0.83771388,  1.38472601,  0.31125071,  1.17209984],\n",
       "       [ 0.76813632,  1.00896878,  1.42784517,  0.52500755],\n",
       "       [ 1.20879423,  2.01502847, -1.43342815, -0.55347961],\n",
       "       [-1.62069341, -1.52436225, -1.5032153 , -1.50254831],\n",
       "       [-0.11317951, -0.61527217,  0.66018648,  0.01811858],\n",
       "       [-0.27552716, -0.23951493,  0.1716764 , -0.13286962],\n",
       "       [-0.66980002, -0.14254532,  0.10188925,  0.87012344],\n",
       "       [-0.34510472, -0.78496898,  0.45082502, -0.68289807],\n",
       "       [-1.01768785,  0.03927269,  1.49763233, -1.39469959],\n",
       "       [ 1.53348953,  1.3119988 , -1.22406668,  0.13675217],\n",
       "       [-0.92491776, -1.027393  , -1.43342815, -0.90938037],\n",
       "       [ 1.25517927,  0.20896951, -0.45640799,  0.61128652],\n",
       "       [ 1.13921666,  0.36654512,  1.00912225,  0.46029832],\n",
       "       [-1.06407289, -0.61527217,  1.00912225,  0.17989166],\n",
       "       [-1.29599811, -1.48799864, -2.34066115, -1.08193832],\n",
       "       [ 0.16513075, -0.17890893, -0.17725937, -0.05737552],\n",
       "       [-0.87853272, -0.31224214,  0.52061217,  0.53579242],\n",
       "       [-0.48425985, -1.08799901, -1.85215107, -1.28685088],\n",
       "       [-1.20322802, -1.42739264,  0.03210209, -1.1250778 ],\n",
       "       [-0.22914211, -0.11830292, -0.38662083, -0.60740397]])"
      ]
     },
     "execution_count": 14,
     "metadata": {},
     "output_type": "execute_result"
    }
   ],
   "source": [
    "from sklearn.preprocessing import StandardScaler\n",
    "scaler = StandardScaler()\n",
    "df1_scaled = scaler.fit_transform(df1)\n",
    "df1_scaled"
   ]
  },
  {
   "cell_type": "code",
   "execution_count": 15,
   "id": "cfe20709",
   "metadata": {},
   "outputs": [
    {
     "data": {
      "text/html": [
       "<div>\n",
       "<style scoped>\n",
       "    .dataframe tbody tr th:only-of-type {\n",
       "        vertical-align: middle;\n",
       "    }\n",
       "\n",
       "    .dataframe tbody tr th {\n",
       "        vertical-align: top;\n",
       "    }\n",
       "\n",
       "    .dataframe thead th {\n",
       "        text-align: right;\n",
       "    }\n",
       "</style>\n",
       "<table border=\"1\" class=\"dataframe\">\n",
       "  <thead>\n",
       "    <tr style=\"text-align: right;\">\n",
       "      <th></th>\n",
       "      <th>0</th>\n",
       "      <th>1</th>\n",
       "      <th>2</th>\n",
       "      <th>3</th>\n",
       "    </tr>\n",
       "  </thead>\n",
       "  <tbody>\n",
       "    <tr>\n",
       "      <th>0</th>\n",
       "      <td>1.255179</td>\n",
       "      <td>0.790787</td>\n",
       "      <td>-0.526195</td>\n",
       "      <td>-0.003451</td>\n",
       "    </tr>\n",
       "    <tr>\n",
       "      <th>1</th>\n",
       "      <td>0.513019</td>\n",
       "      <td>1.118060</td>\n",
       "      <td>-1.224067</td>\n",
       "      <td>2.509424</td>\n",
       "    </tr>\n",
       "    <tr>\n",
       "      <th>2</th>\n",
       "      <td>0.072361</td>\n",
       "      <td>1.493817</td>\n",
       "      <td>1.009122</td>\n",
       "      <td>1.053466</td>\n",
       "    </tr>\n",
       "    <tr>\n",
       "      <th>3</th>\n",
       "      <td>0.234708</td>\n",
       "      <td>0.233212</td>\n",
       "      <td>-1.084492</td>\n",
       "      <td>-0.186794</td>\n",
       "    </tr>\n",
       "    <tr>\n",
       "      <th>4</th>\n",
       "      <td>0.281093</td>\n",
       "      <td>1.275635</td>\n",
       "      <td>1.776781</td>\n",
       "      <td>2.088814</td>\n",
       "    </tr>\n",
       "  </tbody>\n",
       "</table>\n",
       "</div>"
      ],
      "text/plain": [
       "          0         1         2         3\n",
       "0  1.255179  0.790787 -0.526195 -0.003451\n",
       "1  0.513019  1.118060 -1.224067  2.509424\n",
       "2  0.072361  1.493817  1.009122  1.053466\n",
       "3  0.234708  0.233212 -1.084492 -0.186794\n",
       "4  0.281093  1.275635  1.776781  2.088814"
      ]
     },
     "execution_count": 15,
     "metadata": {},
     "output_type": "execute_result"
    }
   ],
   "source": [
    "df2 = pd.DataFrame(df1_scaled)\n",
    "df2.head()"
   ]
  },
  {
   "cell_type": "markdown",
   "id": "3f30b15d",
   "metadata": {},
   "source": [
    "### K-Means Clustering"
   ]
  },
  {
   "cell_type": "code",
   "execution_count": 16,
   "id": "1cbdf0bd",
   "metadata": {},
   "outputs": [],
   "source": [
    "from sklearn.cluster import KMeans\n",
    "from matplotlib import pyplot as plt"
   ]
  },
  {
   "cell_type": "code",
   "execution_count": 19,
   "id": "54c96143",
   "metadata": {},
   "outputs": [
    {
     "data": {
      "image/png": "[encoded data removed]",
      "text/plain": [
       "<Figure size 640x480 with 1 Axes>"
      ]
     },
     "metadata": {},
     "output_type": "display_data"
    }
   ],
   "source": [
    "wcss = []\n",
    "for i in range(1,11):\n",
    "    kmeans = KMeans(n_clusters=i)\n",
    "    kmeans.fit(df2)\n",
    "    wcss.append(kmeans.inertia_)\n",
    "    \n",
    "plt.plot(range(1,11),wcss)\n",
    "plt.title('Elbow Method')\n",
    "plt.xlabel('Number of clusters')\n",
    "plt.ylabel('wcss')\n",
    "plt.show()"
   ]
  },
  {
   "cell_type": "code",
   "execution_count": 20,
   "id": "2f97a240",
   "metadata": {},
   "outputs": [],
   "source": [
    "from sklearn.metrics import silhouette_score"
   ]
  },
  {
   "cell_type": "code",
   "execution_count": 21,
   "id": "0d8fc660",
   "metadata": {},
   "outputs": [],
   "source": [
    "kmeans = KMeans(n_clusters=4)\n",
    "predict = kmeans.fit_predict(df1)"
   ]
  },
  {
   "cell_type": "code",
   "execution_count": 22,
   "id": "c82b392e",
   "metadata": {},
   "outputs": [
    {
     "data": {
      "text/plain": [
       "array([1, 1, 1, 2, 1, 2, 0, 1, 1, 2, 3, 0, 1, 0, 3, 0, 0, 1, 3, 1, 2, 1,\n",
       "       3, 1, 2, 0, 0, 1, 3, 2, 1, 1, 1, 3, 0, 2, 2, 0, 2, 1, 3, 2, 2, 0,\n",
       "       3, 2, 2, 3, 3, 2])"
      ]
     },
     "execution_count": 22,
     "metadata": {},
     "output_type": "execute_result"
    }
   ],
   "source": [
    "predict"
   ]
  },
  {
   "cell_type": "code",
   "execution_count": 24,
   "id": "78950746",
   "metadata": {},
   "outputs": [
    {
     "name": "stdout",
     "output_type": "stream",
     "text": [
      "1    16\n",
      "2    14\n",
      "0    10\n",
      "3    10\n",
      "dtype: int64\n"
     ]
    }
   ],
   "source": [
    "print(pd.Series(predict).value_counts())"
   ]
  },
  {
   "cell_type": "markdown",
   "id": "356837b6",
   "metadata": {},
   "source": [
    "### DBSCAN Clustering"
   ]
  },
  {
   "cell_type": "code",
   "execution_count": 12,
   "id": "0f251c55",
   "metadata": {},
   "outputs": [],
   "source": [
    "from sklearn.cluster import DBSCAN"
   ]
  },
  {
   "cell_type": "code",
   "execution_count": 13,
   "id": "4cdc8e08",
   "metadata": {},
   "outputs": [],
   "source": [
    "dbscan = DBSCAN(eps=0.5, min_samples=5)"
   ]
  },
  {
   "cell_type": "code",
   "execution_count": 14,
   "id": "b52596b1",
   "metadata": {},
   "outputs": [
    {
     "data": {
      "text/html": [
       "<style>#sk-container-id-1 {color: black;background-color: white;}#sk-container-id-1 pre{padding: 0;}#sk-container-id-1 div.sk-toggleable {background-color: white;}#sk-container-id-1 label.sk-toggleable__label {cursor: pointer;display: block;width: 100%;margin-bottom: 0;padding: 0.3em;box-sizing: border-box;text-align: center;}#sk-container-id-1 label.sk-toggleable__label-arrow:before {content: \"▸\";float: left;margin-right: 0.25em;color: #696969;}#sk-container-id-1 label.sk-toggleable__label-arrow:hover:before {color: black;}#sk-container-id-1 div.sk-estimator:hover label.sk-toggleable__label-arrow:before {color: black;}#sk-container-id-1 div.sk-toggleable__content {max-height: 0;max-width: 0;overflow: hidden;text-align: left;background-color: #f0f8ff;}#sk-container-id-1 div.sk-toggleable__content pre {margin: 0.2em;color: black;border-radius: 0.25em;background-color: #f0f8ff;}#sk-container-id-1 input.sk-toggleable__control:checked~div.sk-toggleable__content {max-height: 200px;max-width: 100%;overflow: auto;}#sk-container-id-1 input.sk-toggleable__control:checked~label.sk-toggleable__label-arrow:before {content: \"▾\";}#sk-container-id-1 div.sk-estimator input.sk-toggleable__control:checked~label.sk-toggleable__label {background-color: #d4ebff;}#sk-container-id-1 div.sk-label input.sk-toggleable__control:checked~label.sk-toggleable__label {background-color: #d4ebff;}#sk-container-id-1 input.sk-hidden--visually {border: 0;clip: rect(1px 1px 1px 1px);clip: rect(1px, 1px, 1px, 1px);height: 1px;margin: -1px;overflow: hidden;padding: 0;position: absolute;width: 1px;}#sk-container-id-1 div.sk-estimator {font-family: monospace;background-color: #f0f8ff;border: 1px dotted black;border-radius: 0.25em;box-sizing: border-box;margin-bottom: 0.5em;}#sk-container-id-1 div.sk-estimator:hover {background-color: #d4ebff;}#sk-container-id-1 div.sk-parallel-item::after {content: \"\";width: 100%;border-bottom: 1px solid gray;flex-grow: 1;}#sk-container-id-1 div.sk-label:hover label.sk-toggleable__label {background-color: #d4ebff;}#sk-container-id-1 div.sk-serial::before {content: \"\";position: absolute;border-left: 1px solid gray;box-sizing: border-box;top: 0;bottom: 0;left: 50%;z-index: 0;}#sk-container-id-1 div.sk-serial {display: flex;flex-direction: column;align-items: center;background-color: white;padding-right: 0.2em;padding-left: 0.2em;position: relative;}#sk-container-id-1 div.sk-item {position: relative;z-index: 1;}#sk-container-id-1 div.sk-parallel {display: flex;align-items: stretch;justify-content: center;background-color: white;position: relative;}#sk-container-id-1 div.sk-item::before, #sk-container-id-1 div.sk-parallel-item::before {content: \"\";position: absolute;border-left: 1px solid gray;box-sizing: border-box;top: 0;bottom: 0;left: 50%;z-index: -1;}#sk-container-id-1 div.sk-parallel-item {display: flex;flex-direction: column;z-index: 1;position: relative;background-color: white;}#sk-container-id-1 div.sk-parallel-item:first-child::after {align-self: flex-end;width: 50%;}#sk-container-id-1 div.sk-parallel-item:last-child::after {align-self: flex-start;width: 50%;}#sk-container-id-1 div.sk-parallel-item:only-child::after {width: 0;}#sk-container-id-1 div.sk-dashed-wrapped {border: 1px dashed gray;margin: 0 0.4em 0.5em 0.4em;box-sizing: border-box;padding-bottom: 0.4em;background-color: white;}#sk-container-id-1 div.sk-label label {font-family: monospace;font-weight: bold;display: inline-block;line-height: 1.2em;}#sk-container-id-1 div.sk-label-container {text-align: center;}#sk-container-id-1 div.sk-container {/* jupyter's `normalize.less` sets `[hidden] { display: none; }` but bootstrap.min.css set `[hidden] { display: none !important; }` so we also need the `!important` here to be able to override the default hidden behavior on the sphinx rendered scikit-learn.org. See: https://github.com/scikit-learn/scikit-learn/issues/21755 */display: inline-block !important;position: relative;}#sk-container-id-1 div.sk-text-repr-fallback {display: none;}</style><div id=\"sk-container-id-1\" class=\"sk-top-container\"><div class=\"sk-text-repr-fallback\"><pre>DBSCAN()</pre><b>In a Jupyter environment, please rerun this cell to show the HTML representation or trust the notebook. <br />On GitHub, the HTML representation is unable to render, please try loading this page with nbviewer.org.</b></div><div class=\"sk-container\" hidden><div class=\"sk-item\"><div class=\"sk-estimator sk-toggleable\"><input class=\"sk-toggleable__control sk-hidden--visually\" id=\"sk-estimator-id-1\" type=\"checkbox\" checked><label for=\"sk-estimator-id-1\" class=\"sk-toggleable__label sk-toggleable__label-arrow\">DBSCAN</label><div class=\"sk-toggleable__content\"><pre>DBSCAN()</pre></div></div></div></div></div>"
      ],
      "text/plain": [
       "DBSCAN()"
      ]
     },
     "execution_count": 14,
     "metadata": {},
     "output_type": "execute_result"
    }
   ],
   "source": [
    "dbscan.fit(df1)"
   ]
  },
  {
   "cell_type": "code",
   "execution_count": 15,
   "id": "1fb45c17",
   "metadata": {},
   "outputs": [],
   "source": [
    "dbscan_labels = dbscan.labels_"
   ]
  },
  {
   "cell_type": "code",
   "execution_count": 16,
   "id": "156c69a5",
   "metadata": {},
   "outputs": [
    {
     "name": "stdout",
     "output_type": "stream",
     "text": [
      "-1    50\n",
      "dtype: int64\n"
     ]
    }
   ],
   "source": [
    "print(pd.Series(dbscan_labels).value_counts())"
   ]
  },
  {
   "cell_type": "code",
   "execution_count": 26,
   "id": "22f10570",
   "metadata": {},
   "outputs": [
    {
     "name": "stderr",
     "output_type": "stream",
     "text": [
      "C:\\Users\\Lenovo-PC\\anaconda3\\Lib\\site-packages\\sklearn\\cluster\\_kmeans.py:870: FutureWarning: The default value of `n_init` will change from 10 to 'auto' in 1.4. Set the value of `n_init` explicitly to suppress the warning\n",
      "  warnings.warn(\n",
      "C:\\Users\\Lenovo-PC\\anaconda3\\Lib\\site-packages\\sklearn\\cluster\\_kmeans.py:1382: UserWarning: KMeans is known to have a memory leak on Windows with MKL, when there are less chunks than available threads. You can avoid it by setting the environment variable OMP_NUM_THREADS=1.\n",
      "  warnings.warn(\n"
     ]
    }
   ],
   "source": [
    "kmeans = KMeans(n_clusters=3, random_state=42)\n",
    "kmeans_labels = kmeans.fit_predict(df1_scaled)\n"
   ]
  },
  {
   "cell_type": "code",
   "execution_count": 27,
   "id": "8848efd8",
   "metadata": {},
   "outputs": [
    {
     "data": {
      "text/plain": [
       "Text(0.5, 1.0, 'K-means Clustering')"
      ]
     },
     "execution_count": 27,
     "metadata": {},
     "output_type": "execute_result"
    },
    {
     "data": {
      "image/png": "[encoded data removed]",
      "text/plain": [
       "<Figure size 1800x600 with 1 Axes>"
      ]
     },
     "metadata": {},
     "output_type": "display_data"
    }
   ],
   "source": [
    "import seaborn as sns\n",
    "plt.figure(figsize=(18, 6))\n",
    "\n",
    "plt.subplot(1, 3, 1)\n",
    "sns.scatterplot(x=df1_scaled [:, 0], y=df1_scaled [:, 1], hue=kmeans_labels, palette='viridis', legend='full')\n",
    "plt.title('K-means Clustering')"
   ]
  },
  {
   "cell_type": "code",
   "execution_count": 28,
   "id": "563d47b6",
   "metadata": {},
   "outputs": [],
   "source": [
    "dbscan = DBSCAN(eps=3, min_samples=5)\n",
    "dbscan_labels = dbscan.fit_predict(df1_scaled)"
   ]
  },
  {
   "cell_type": "code",
   "execution_count": 30,
   "id": "172e84d4",
   "metadata": {},
   "outputs": [
    {
     "data": {
      "text/plain": [
       "Text(0.5, 1.0, 'K-means Clustering')"
      ]
     },
     "execution_count": 30,
     "metadata": {},
     "output_type": "execute_result"
    },
    {
     "data": {
      "image/png": "[encoded data removed]",
      "text/plain": [
       "<Figure size 1800x600 with 1 Axes>"
      ]
     },
     "metadata": {},
     "output_type": "display_data"
    }
   ],
   "source": [
    "plt.figure(figsize=(18, 6))\n",
    "\n",
    "plt.subplot(1, 3, 1)\n",
    "sns.scatterplot(x=df1_scaled[:, 0], y=df1_scaled[:, 1], hue=kmeans_labels, palette='viridis', legend='full')\n",
    "plt.title('K-means Clustering')\n"
   ]
  },
  {
   "cell_type": "code",
   "execution_count": 31,
   "id": "2bfcbedb",
   "metadata": {},
   "outputs": [
    {
     "data": {
      "text/plain": [
       "Text(0.5, 1.0, 'DBSCAN Clustering')"
      ]
     },
     "execution_count": 31,
     "metadata": {},
     "output_type": "execute_result"
    },
    {
     "data": {
      "image/png": "[encoded data removed]",
      "text/plain": [
       "<Figure size 640x480 with 1 Axes>"
      ]
     },
     "metadata": {},
     "output_type": "display_data"
    }
   ],
   "source": [
    "plt.subplot(1, 3, 2)\n",
    "sns.scatterplot(x=df1_scaled[:, 0], y=df1_scaled[:, 1], hue=dbscan_labels, palette='viridis', legend='full')\n",
    "plt.title('DBSCAN Clustering')"
   ]
  },
  {
   "cell_type": "code",
   "execution_count": 35,
   "id": "c0a6b849",
   "metadata": {},
   "outputs": [
    {
     "name": "stderr",
     "output_type": "stream",
     "text": [
      "C:\\Users\\Lenovo-PC\\AppData\\Local\\Temp\\ipykernel_2268\\1379945435.py:2: UserWarning: Ignoring `palette` because no `hue` variable has been assigned.\n",
      "  sns.scatterplot(x=df1_scaled[:, 0], y=df1_scaled[:, 1], palette='viridis')\n"
     ]
    },
    {
     "data": {
      "image/png": "[encoded data removed]",
      "text/plain": [
       "<Figure size 640x480 with 1 Axes>"
      ]
     },
     "metadata": {},
     "output_type": "display_data"
    }
   ],
   "source": [
    "plt.subplot(1, 3, 3)\n",
    "sns.scatterplot(x=df1_scaled[:, 0], y=df1_scaled[:, 1], palette='viridis')\n",
    "plt.title('Original Data')\n",
    "\n",
    "plt.show()"
   ]
  },
  {
   "cell_type": "markdown",
   "id": "afd0c89e",
   "metadata": {},
   "source": [
    "### Agglomerative Clustering"
   ]
  },
  {
   "cell_type": "code",
   "execution_count": 17,
   "id": "2850a21a",
   "metadata": {},
   "outputs": [],
   "source": [
    "from scipy.cluster.hierarchy import linkage, dendrogram"
   ]
  },
  {
   "cell_type": "code",
   "execution_count": 18,
   "id": "ac9210c3",
   "metadata": {},
   "outputs": [],
   "source": [
    "linkage_matrix = linkage(df1_scaled, method='ward')"
   ]
  },
  {
   "cell_type": "code",
   "execution_count": 19,
   "id": "3591c738",
   "metadata": {},
   "outputs": [],
   "source": [
    "import matplotlib.pyplot as plt"
   ]
  },
  {
   "cell_type": "code",
   "execution_count": 20,
   "id": "1ad9e42e",
   "metadata": {},
   "outputs": [
    {
     "data": {
      "image/png": "[encoded data removed]",
      "text/plain": [
       "<Figure size 1200x800 with 1 Axes>"
      ]
     },
     "metadata": {},
     "output_type": "display_data"
    }
   ],
   "source": [
    "plt.figure(figsize=(12, 8))\n",
    "dendrogram(linkage_matrix)\n",
    "plt.title('Hierarchical Clustering Dendrogram')\n",
    "plt.xlabel('Data Points')\n",
    "plt.ylabel('Distance')\n",
    "plt.show()\n"
   ]
  },
  {
   "cell_type": "markdown",
   "id": "18cba06c",
   "metadata": {},
   "source": [
    "### insights:\n",
    "\n",
    "* The dendrogram provides insights into the hierarchical relationships between data points. Vertical lines represent       clusters, and the height of the vertical lines indicates the distance at which clusters are merged.\n",
    "\n",
    "\n",
    "* Based on the elbow method, we chose three clusters (k=3) for K-means clustering.\n",
    "\n",
    "* The scatterplot shows how data points are grouped into three clusters based on their features.\n",
    "  For example, there are specific regions or types of areas that tend to have similar crime rates.\n",
    "\n",
    "\n",
    "* The scatterplot visualizes the clusters identified by DBSCAN. Outliers are labeled as -1.\n",
    "  Check if there are any dense regions or outliers that might represent specific patterns or anomalies.\n",
    "\n",
    "\n",
    "* The scatterplot of the original data shows the distribution of crime data points without clustering.\n"
   ]
  },
  {
   "cell_type": "code",
   "execution_count": null,
   "id": "cc9dab96",
   "metadata": {},
   "outputs": [],
   "source": []
  }
 ],
 "metadata": {
  "kernelspec": {
   "display_name": "Python 3 (ipykernel)",
   "language": "python",
   "name": "python3"
  },
  "language_info": {
   "codemirror_mode": {
    "name": "ipython",
    "version": 3
   },
   "file_extension": ".py",
   "mimetype": "text/x-python",
   "name": "python",
   "nbconvert_exporter": "python",
   "pygments_lexer": "ipython3",
   "version": "3.11.3"
  }
 },
 "nbformat": 4,
 "nbformat_minor": 5
}
